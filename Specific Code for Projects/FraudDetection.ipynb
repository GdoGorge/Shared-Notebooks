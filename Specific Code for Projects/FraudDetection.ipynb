{
 "cells": [
  {
   "attachments": {},
   "cell_type": "markdown",
   "metadata": {},
   "source": [
    "# Analysis of Fraud at UW and claims"
   ]
  },
  {
   "attachments": {},
   "cell_type": "markdown",
   "metadata": {},
   "source": [
    "## 1. Initialisation Phase\n"
   ]
  },
  {
   "cell_type": "code",
   "execution_count": 1,
   "metadata": {},
   "outputs": [],
   "source": [
    "# variables indiquant si on relit ou non toute la base\n",
    "\n",
    "# generation_source = 'Aggregator' 'Portal'"
   ]
  },
  {
   "cell_type": "code",
   "execution_count": 2,
   "metadata": {},
   "outputs": [
    {
     "name": "stderr",
     "output_type": "stream",
     "text": [
      "C:\\Users\\guill\\AppData\\Local\\Temp\\ipykernel_41084\\52057984.py:9: DeprecationWarning: `import pandas_profiling` is going to be deprecated by April 1st. Please use `import ydata_profiling` instead.\n",
      "  import pandas_profiling\n"
     ]
    }
   ],
   "source": [
    "import numpy as np\n",
    "import pandas as pd\n",
    "import matplotlib.pyplot as plt\n",
    "import datetime \n",
    "import math\n",
    "from plotly import graph_objects as go\n",
    "import json \n",
    "import seaborn as sns\n",
    "import pandas_profiling\n",
    "import sys\n"
   ]
  },
  {
   "cell_type": "code",
   "execution_count": 3,
   "metadata": {},
   "outputs": [],
   "source": [
    "## Python directory\n",
    "### <--------------------------- TO BE CHANGED ---------------------------> ### \n",
    "PYTHON_DIRECTORY = 'https://github.com/ornikar/pricing-insurance/Shared Notebooks'\n",
    "PYTHON_DIRECTORY = 'C:/Users/guill/GitHub/2023 Ornikar Pricing/pricing-insurance/Python Official Library/'\n",
    " \n",
    "LATEX_MAIN_DIRECTORY = 'C:/Users/guill/GitHub/2023 Ornikar Pricing/pricing-insurance/Latex/OrnikarInsuranceAutomaticResults/'\n",
    "LATEX_DIRECTORY = 'C:/Users/guill/GitHub/2023 Ornikar Pricing/pricing-insurance/Latex/OrnikarInsuranceAutomaticResults/Dashboard_Latex/'\n",
    "\n",
    "RESULTS_DIRECTORY = 'C:/Users/guill/GitHub/2023 Ornikar Pricing/pricing-insurance/Results/'\n",
    "### <--------------------------- TO BE CHANGED ---------------------------> ### \n",
    "\n",
    "\n",
    "sys.path.insert(1, PYTHON_DIRECTORY)\n",
    "\n",
    "\n",
    "from importlib import reload  # Python 3.4+\n",
    "import OrnikarDataFormat\n",
    "import TransformedDataReading\n",
    "import LinkQuotations\n",
    "import LeFuretLibrary\n",
    "import GraphicStatLibrary\n",
    "\n",
    "# instruction pour forcer la relecture d'une base (utile quand on code ;) \n",
    "# LeFuretLibrary = reload(LeFuretLibrary)\n",
    "# GraphicStatLibrary = reload(GraphicStatLibrary)\n"
   ]
  },
  {
   "cell_type": "code",
   "execution_count": 4,
   "metadata": {},
   "outputs": [
    {
     "name": "stdout",
     "output_type": "stream",
     "text": [
      "Full reading of BigQuery and all DataBases\n"
     ]
    }
   ],
   "source": [
    "# Définition du mode de lecture / écriture des base : \n",
    "ModeGlobal = True # True or False : True pour tout lire\n",
    "ModeSpeed = 'Full' # 'Full' means to keep all variables at the expense of Speed. Put 'Quick' instead\n",
    "periodLeFuret =  '2023-03' # mois le Furet à lire\n",
    "if ModeGlobal and ModeSpeed == 'Full':\n",
    "    print(\"Full reading of BigQuery and all DataBases\")\n",
    "    mode = 'Google' \n",
    "    SizeVariablesKeptGW = 'Full' # We keep all the variables of GW except var_to_suppress.\n",
    "elif ModeGlobal:\n",
    "    print(\"Fast Mode through limited selection of variables - good for Clementine\")\n",
    "    mode = 'Google' \n",
    "    SizeVariablesKeptGW = 'Quick' # We keep all the variables of GW except var_to_suppress.\n",
    "else: \n",
    "    mode = 'ReadLocalBase'\n",
    "    SizeVariablesKeptGW = 'Full'\n"
   ]
  },
  {
   "cell_type": "code",
   "execution_count": 5,
   "metadata": {},
   "outputs": [],
   "source": [
    "\n",
    "# Import the data base\n",
    "\n",
    "### <--------------------------- TO BE CHANGED ---------------------------> ### \n",
    "BASE_PATH = 'C:/Users/guill/GitHub/2023 Ornikar Empreinte/Data' \n",
    "BASE_PATH_LEFURET = 'C:/Users/guill/GitHub/2023 Coherence Tarifaire/Data' \n",
    "BASE_PATH_RES = RESULTS_DIRECTORY\n",
    "### <--------------------------- TO BE CHANGED ---------------------------> ### \n"
   ]
  },
  {
   "cell_type": "code",
   "execution_count": 6,
   "metadata": {},
   "outputs": [],
   "source": [
    "## Variables to Keep Guidewire\n",
    "\n",
    "# Liste Clémentine\n",
    "var_process = ['account_id',  'account_number', 'submission_created_at', 'bind_date',  'job_id',  'job_number', 'policy_id',  'policy_number', 'tariff_viewed', 'wakam_called', 'tariff_accepted', 'wakam_pricing_version',\n",
    "                'generation_source', 'online_offline' ,'ph_email']\n",
    "var_risk = ['ph_email', 'loss_history_type', 'recommended_package', 'package_subtype', 'md_age', 'md_license_duration', 'vh_age',  'md_prefix',  'md_crm_coefficient', 'md_license_country', 'vh_sra_code', 'vh_license_plate','vh_annual_km','PACKAGE', ]  \n",
    "# if SizeVariablesKeptGW = 'Full' alors à ces variables sont ajoutées TOUTES les variables sauf var_to_suppress\n",
    "var_to_suppress = ['vh_sra_code','Unnamed: 0', 'insurer_name','submission_creation_user_name','update_user_id','ph_first_name','ph_last_name','ph_email','ph_phone'\n",
    "] # vh_sra_code est en doublon\n",
    "\n",
    "# Liste Guillaume \n",
    "var_process = ['account_id',  'account_number', 'submission_created_at', 'bind_date',  'job_id',  'job_number', 'policy_id',  'policy_number', 'tariff_viewed', 'wakam_called', 'tariff_accepted', 'policy_status', 'wakam_pricing_version',\n",
    "                'generation_source', 'online_offline','ph_email' ]\n",
    "var_risk = [ 'loss_history_type', 'recommended_package', 'package_subtype', 'md_age', 'md_license_duration', 'vh_age',  'md_prefix',  'md_crm_coefficient', 'md_license_country', 'vh_sra_code', 'vh_license_plate','vh_annual_km','PACKAGE', ]  \n",
    "\n",
    "# suppression 'ph_gender' et remplacement par md_prefix\n",
    "\n",
    "var_premium = ['total_premium_rpt','total_cost_rpt']\n"
   ]
  },
  {
   "cell_type": "code",
   "execution_count": 7,
   "metadata": {},
   "outputs": [],
   "source": [
    "# Variable to Keep LeFuret\n",
    "\n",
    "columnstoKeep = ['IdClient', 'SRA_Groupe', 'SRA_Classe', 'VEH_Antecedent',\n",
    "       'premium_TTC', 'premium_HT', 'premium_RCC_TTC', 'premium_RCM_TTC',\n",
    "       'premium_DRX_TTC', 'premium_PROPIL_TTC', 'premium_BDG_TTC',\n",
    "       'premium_VLX_TTC', 'premium_INC_TTC', 'premium_CATNAT_TTC',\n",
    "       'premium_CATECH_TTC', 'premium_EVCLM_TTC', 'premium_DOM_TTC', 'PP_RC',\n",
    "       'PP_VOL', 'PP_INC', 'PP_BDG', 'PP_DOM', 'PP_SDC','message','ph_email']\n",
    "\n",
    "\n",
    "\n",
    "columnstoKeepSmall = [ 'IdClient',\n",
    "       'premium_TTC', 'premium_HT', 'premium_RCC_TTC', 'premium_RCM_TTC',\n",
    "       'premium_DRX_TTC', 'premium_PROPIL_TTC', 'premium_BDG_TTC',\n",
    "       'premium_VLX_TTC', 'premium_INC_TTC', 'premium_CATNAT_TTC',\n",
    "       'premium_CATECH_TTC', 'premium_EVCLM_TTC', 'premium_DOM_TTC','message']\n",
    "\n",
    "columnstoKeepSmall =['IdClient','premium_TTC','premium_HT','PP_RC','PP_VOL', 'PP_INC', 'PP_BDG', 'PP_DOM', 'PP_SDC','message'] \n",
    "# La prime Furet est TTC, premium HT est conservée pour le S/C\n",
    "\n",
    "columnsPremium = ['premium_TTC', 'premium_HT', 'premium_RCC_TTC', 'premium_RCM_TTC',\n",
    "       'premium_DRX_TTC', 'premium_PROPIL_TTC', 'premium_BDG_TTC',\n",
    "       'premium_VLX_TTC', 'premium_INC_TTC', 'premium_CATNAT_TTC',\n",
    "       'premium_CATECH_TTC', 'premium_EVCLM_TTC', 'premium_DOM_TTC','message']\n",
    "columnsPremiumRC = [c+'_RC' for c in columnsPremium]\n",
    "columnsPremiumRCP = [c+'_RCP' for c in columnsPremium]\n",
    "columnsPremiumTR = [c+'_TR' for c in columnsPremium]"
   ]
  },
  {
   "cell_type": "code",
   "execution_count": 8,
   "metadata": {},
   "outputs": [],
   "source": [
    "# Base le Furet méthode 2 : description automatique et suppression des variables non pertinentes.\n",
    "# voir méthode que l'on retient au final\n",
    "\n",
    "# Attention, clémentine, pour toi, faire un filtre sur [['custom_qr_id', 'couverture_demandée', 'mediane', 'annee_naissance', 'segment']]\n",
    "featureLF_a_conserver = [['custom_qr_id', 'couverture_demandée', 'mediane', 'segment','md_age']] \n",
    "\n",
    "features_a_supprimer =['custom_qr_id','Unnamed: 0','Unnamed: 0.1','assureur','id','mediane', 'moyenne', 'position_vue', 'prix', 'id_externe_tarif', 'couverture','custom_offer_id',\n",
    "                       'DTA_Incluse',\t'DTA_Franchise_Montant',\t'VI_Incluse',\t'VI_Franchise_Montant',\t'BDG_Incluse',\t'BDG_Franchise_Montant',\t'ASS_Panne_Incluse',\t'ASS_Panne_Franchise_Montant',\t'ASS_Accident_Incluse',\t'ASS_Accident_Franchise_Montant',\t'VR_Accident_Incluse',\t'GC_Incluse',\n",
    "                     \t'custom_offer_id','PositionMediane','Position5HorsMediane','position_mer','devis','rappel','souscription']  \n",
    "# un certain nombre de variables buguent car plusieurs formats. On les enlève dans un premier temps\n",
    "# ! TODO il faudra essayer de les reintégrer\n",
    "features_trop_large = ['code_postal','code_postal_travail','auto_sec_his_assure_actuel',\n",
    "                       'auto_veh_tra_france','auto_pri_inf_conjoint_permis','auto_pri_inf_conjoint_autre_veh','auto_pri_his_sin_1_tiers','auto_pri_his_sin_2_tiers',\n",
    "                       'auto_pri_his_sin_3_tiers','auto_pri_his_sin_4_tiers','auto_pri_his_sin_5_tiers',\n",
    "                       'auto_pri_his_sin_corp_1_enquete','auto_pri_his_sin_corp_2_enquete','auto_pri_his_sin_corp_3_enquete','auto_pri_his_sin_corp_4_enquete','auto_pri_his_sin_corp_5_enquete',' ',\n",
    "                       'auto_pri_his_sin_corp_1_prison', 'auto_pri_his_sin_corp_1_prison', 'auto_pri_his_sin_corp_2_prison','auto_pri_his_sin_corp_3_prison','auto_pri_his_sin_corp_4_prison','auto_pri_his_sin_corp_5_prison',\n",
    "                       'auto_ass_dtl_souscription']\n",
    "# auto_veh_garage_nt_departement_value était avant enlevé\n"
   ]
  },
  {
   "cell_type": "code",
   "execution_count": 9,
   "metadata": {},
   "outputs": [],
   "source": [
    "### Variable Wakam\n",
    "# Faire le Tri\n",
    "VariableSRAWakam= ['SRA_CodeEnergie\tSRA_PtacENkg','SRA_PuissanceReelleMaxiCEE',\t'VEH_RatioWeightPower',\t'SRA_Suspension\tSRA_Alimentation',\t'SRA_VitesseMaxi',\t'SRA_TypeFreins',\t'SRA_Carrosserie',\t'VEH_Carrosserie_FOCUS',\t'SRA_Transmission',\t'SRA_NombrePlaces',\t'SRA_ClasseReparationActuelle']\n",
    "VariableSRAWakam= ['SRA_PuissanceReelleMaxiCEE','VEH_RatioWeightPower']\n",
    "\n"
   ]
  },
  {
   "cell_type": "code",
   "execution_count": 10,
   "metadata": {},
   "outputs": [
    {
     "data": {
      "text/html": [
       "<div>\n",
       "<style scoped>\n",
       "    .dataframe tbody tr th:only-of-type {\n",
       "        vertical-align: middle;\n",
       "    }\n",
       "\n",
       "    .dataframe tbody tr th {\n",
       "        vertical-align: top;\n",
       "    }\n",
       "\n",
       "    .dataframe thead th {\n",
       "        text-align: right;\n",
       "    }\n",
       "</style>\n",
       "<table border=\"1\" class=\"dataframe\">\n",
       "  <thead>\n",
       "    <tr style=\"text-align: right;\">\n",
       "      <th></th>\n",
       "      <th>libelle_import</th>\n",
       "      <th>sexy_title</th>\n",
       "      <th>2023-02</th>\n",
       "      <th>2023-03</th>\n",
       "    </tr>\n",
       "  </thead>\n",
       "  <tbody>\n",
       "    <tr>\n",
       "      <th>tiers</th>\n",
       "      <td>RC</td>\n",
       "      <td>1. Tiers</td>\n",
       "      <td>All_Quote_Priced_02_2023_RC</td>\n",
       "      <td>All_Quotes_RC_03_2023</td>\n",
       "    </tr>\n",
       "    <tr>\n",
       "      <th>vol_incendie</th>\n",
       "      <td>RC+</td>\n",
       "      <td>2. Tiers Etendue</td>\n",
       "      <td>All_Quote_Priced_02_2023_RC+</td>\n",
       "      <td>All_Quotes_RC+_03_2023</td>\n",
       "    </tr>\n",
       "    <tr>\n",
       "      <th>tous_risques</th>\n",
       "      <td>TR</td>\n",
       "      <td>3. Tous Risques</td>\n",
       "      <td>All_Quote_Priced_02_2023_TR</td>\n",
       "      <td>All_Quotes_TR_03_2023</td>\n",
       "    </tr>\n",
       "  </tbody>\n",
       "</table>\n",
       "</div>"
      ],
      "text/plain": [
       "             libelle_import        sexy_title                       2023-02  \\\n",
       "tiers                    RC          1. Tiers   All_Quote_Priced_02_2023_RC   \n",
       "vol_incendie            RC+  2. Tiers Etendue  All_Quote_Priced_02_2023_RC+   \n",
       "tous_risques             TR   3. Tous Risques   All_Quote_Priced_02_2023_TR   \n",
       "\n",
       "                             2023-03  \n",
       "tiers          All_Quotes_RC_03_2023  \n",
       "vol_incendie  All_Quotes_RC+_03_2023  \n",
       "tous_risques   All_Quotes_TR_03_2023  "
      ]
     },
     "execution_count": 10,
     "metadata": {},
     "output_type": "execute_result"
    }
   ],
   "source": [
    "#Table de référence pour les libellés correspondant à une couverture donnée\n",
    "var = {\n",
    "    \"libelle_import\": [\"RC\", \"RC+\", \"TR\"], \n",
    "    \"sexy_title\": [\"1. Tiers\", \"2. Tiers Etendue\", \"3. Tous Risques\"],\n",
    "    \"2023-02\" : ['All_Quote_Priced_02_2023_RC','All_Quote_Priced_02_2023_RC+','All_Quote_Priced_02_2023_TR'],\n",
    "    \"2023-03\" : ['All_Quotes_RC_03_2023','All_Quotes_RC+_03_2023','All_Quotes_TR_03_2023'],\n",
    "    }\n",
    "\n",
    "couverture = [\"tiers\", \"vol_incendie\", \"tous_risques\"]\n",
    "dico_couv = pd.DataFrame(var, index = couverture)\n",
    "dico_couv"
   ]
  },
  {
   "attachments": {},
   "cell_type": "markdown",
   "metadata": {},
   "source": [
    "## 2. Reading DataBases"
   ]
  },
  {
   "cell_type": "code",
   "execution_count": 11,
   "metadata": {},
   "outputs": [
    {
     "name": "stderr",
     "output_type": "stream",
     "text": [
      "c:\\Users\\guill\\anaconda3\\envs\\OnlyPIP\\lib\\site-packages\\google\\auth\\_default.py:78: UserWarning: Your application has authenticated using end user credentials from Google Cloud SDK without a quota project. You might receive a \"quota exceeded\" or \"API not enabled\" error. See the following page for troubleshooting: https://cloud.google.com/docs/authentication/adc-troubleshooting/user-creds. \n",
      "  warnings.warn(_CLOUD_SDK_CREDENTIALS_WARNING)\n"
     ]
    },
    {
     "name": "stderr",
     "output_type": "stream",
     "text": [
      "c:\\Users\\guill\\anaconda3\\envs\\OnlyPIP\\lib\\site-packages\\google\\auth\\_default.py:78: UserWarning: Your application has authenticated using end user credentials from Google Cloud SDK without a quota project. You might receive a \"quota exceeded\" or \"API not enabled\" error. See the following page for troubleshooting: https://cloud.google.com/docs/authentication/adc-troubleshooting/user-creds. \n",
      "  warnings.warn(_CLOUD_SDK_CREDENTIALS_WARNING)\n",
      "c:\\Users\\guill\\anaconda3\\envs\\OnlyPIP\\lib\\site-packages\\google\\auth\\_default.py:78: UserWarning: Your application has authenticated using end user credentials from Google Cloud SDK without a quota project. You might receive a \"quota exceeded\" or \"API not enabled\" error. See the following page for troubleshooting: https://cloud.google.com/docs/authentication/adc-troubleshooting/user-creds. \n",
      "  warnings.warn(_CLOUD_SDK_CREDENTIALS_WARNING)\n",
      "c:\\Users\\guill\\anaconda3\\envs\\OnlyPIP\\lib\\site-packages\\google\\auth\\_default.py:78: UserWarning: Your application has authenticated using end user credentials from Google Cloud SDK without a quota project. You might receive a \"quota exceeded\" or \"API not enabled\" error. See the following page for troubleshooting: https://cloud.google.com/docs/authentication/adc-troubleshooting/user-creds. \n",
      "  warnings.warn(_CLOUD_SDK_CREDENTIALS_WARNING)\n",
      "c:\\Users\\guill\\anaconda3\\envs\\OnlyPIP\\lib\\site-packages\\google\\auth\\_default.py:78: UserWarning: Your application has authenticated using end user credentials from Google Cloud SDK without a quota project. You might receive a \"quota exceeded\" or \"API not enabled\" error. See the following page for troubleshooting: https://cloud.google.com/docs/authentication/adc-troubleshooting/user-creds. \n",
      "  warnings.warn(_CLOUD_SDK_CREDENTIALS_WARNING)\n"
     ]
    }
   ],
   "source": [
    "## Read either data base located on the computer (mode = 'ReadLocalBase') or through Google Big Query directly with the update of local data base (option = \"Google\")\n",
    "\n",
    "df, df_previous_claims, df_previous_insurers, df_previous_terminations, df_previous_license_cancellations_suspensions  = TransformedDataReading.GoogleAllDataBaseReading(mode=mode, BASE_PATH =BASE_PATH)\n",
    "#df, df_previous_claims, df_previous_insurers, df_previous_terminations, df_previous_license_cancellations_suspensions  = TransformedDataReading.GoogleAllDataBaseReading(mode='Google', BASE_PATH =BASE_PATH)"
   ]
  },
  {
   "cell_type": "code",
   "execution_count": 12,
   "metadata": {},
   "outputs": [
    {
     "name": "stdout",
     "output_type": "stream",
     "text": [
      "['submission_created_at', 'job_close_date', 'bind_date', 'issue_date', 'cancellation_date', 'original_effective_date', 'period_start', 'period_end', 'creation_date', 'update_date', 'price_computed_at', 'written_date', 'policy_period_start', 'policy_period_end']\n",
      "Number of policies UW : 2464\n"
     ]
    }
   ],
   "source": [
    "# Formatting Data \n",
    "OrnikarDataFormat = reload(OrnikarDataFormat)\n",
    "dfFormat = OrnikarDataFormat.FormatGuideWire(df)\n",
    "print('Number of policies UW : '+str(dfFormat['tariff_accepted'].sum()))\n"
   ]
  },
  {
   "cell_type": "code",
   "execution_count": 13,
   "metadata": {},
   "outputs": [
    {
     "data": {
      "text/plain": [
       "0          4.0\n",
       "1          1.0\n",
       "2          0.0\n",
       "3         33.0\n",
       "4          2.0\n",
       "          ... \n",
       "235972    18.0\n",
       "235973    18.0\n",
       "235974    18.0\n",
       "235975    18.0\n",
       "235976    18.0\n",
       "Name: md_license_duration, Length: 235977, dtype: float64"
      ]
     },
     "execution_count": 13,
     "metadata": {},
     "output_type": "execute_result"
    }
   ],
   "source": [
    "dfFormat[\"md_license_duration\"]"
   ]
  },
  {
   "cell_type": "code",
   "execution_count": 14,
   "metadata": {},
   "outputs": [
    {
     "name": "stdout",
     "output_type": "stream",
     "text": [
      "liste var_others\n",
      "['policy_period_public_id', 'policy_public_id', 'sf_external_contact_id', 'policy_term_public_id', 'wakam_quote_id', 'wakam_price_test', 'wakam_price_test_perc_applied', 'job_type', 'job_public_id', 'job_close_date', 'issue_date', 'cancellation_date', 'cancellation_nature', 'sf_submission_id', 'sf_opportunity_id', 'original_effective_date', 'period_start', 'period_end', 'period_id', 'creation_date', 'update_date', 'price_computed_at', 'last_policy_period_id', 'product_code', 'policy_term_id', 'risk_type', 'written_date', 'submission_creation_user_id', 'submission_creation_user_email', 'is_from_aggregator', 'is_anonymous', 'session_id', 'utm_source', 'utm_medium', 'utm_campaign', 'utm_term', 'utm_content', 'policy_risk_profile', 'policy_risk_profile_edu', 'has_formulas', 'has_selected_formula', 'account_public_id', 'ph_prefix', 'ph_birthdate', 'md_property_owner_type', 'md_accommodation_type', 'phc_policy_contact_role_public_id', 'phc_sf_external_contact_id', 'md_driver_id', 'md_first_name', 'md_last_name', 'md_birthdate', 'md_phone', 'md_email', 'md_occupation', 'md_marital_status', 'md_address', 'md_city', 'md_zipcode', 'md_country', 'md_policy_contact_role_public_id', 'md_date_crm_50', 'md_is_learner_driver', 'md_license_number', 'md_license_date', 'md_ornikarmotor', 'md_risk_profile', 'md_learner_id', 'md_edu_score', 'md_edu_score_category', 'md_edu_status', 'md_edu_impact_premium', 'md_edu_impact_pure_premium', 'md_edu_score_version', 'sd_driver_id', 'sd_first_name', 'sd_last_name', 'sd_prefix', 'sd_birthdate', 'sd_crm_coefficient', 'sd_date_crm_50', 'sd_is_learner_driver', 'sd_license_number', 'sd_license_date', 'sd_license_country', 'sd_edu_score', 'sd_edu_score_version', 'sd_learner_id', 'sd_ornikarmotor', 'vh_vehicle_id', 'vh_brand', 'vh_model', 'vh_version', 'vh_fuel', 'vh_purchase_date', 'vh_financing_method', 'vh_circulation_date', 'vh_currently_insured', 'vh_insurance_end_date', 'vh_usage', 'vh_owner', 'vh_mileage', 'vh_fiscal_power', 'vh_real_fiscal_power', 'vh_empty_weight', 'vh_sra_group', 'vh_sra_class', 'vh_parking_safety', 'vh_parking_city', 'vh_parking_zipcode', 'vh_paking_insee_code', 'is_before_cancellation', 'is_validated', 'is_canceled', 'md_vehicle_driver_id', 'sd_vehicle_driver_id', 'vehicle_id', 'md_policy_driver_id', 'sd_policy_driver_id', 'md_policy_contact_role_id', 'sd_policy_contact_role_id', 'phc_policy_contact_role_id', 'effective_dated_field_id', 'md_vehicle_driver_driver_id', 'sd_vehicle_driver_driver_id', 'anonymous_job_id', 'estimated_premium', 'branch_name', 'policy_period_id', 'period_status', 'policy_period_start', 'policy_period_end', 'is_last_policy_per_period', 'is_last_policy_period_bound_per_policy', 'term_number', 'payment_plan', 'submission_created_at_Timestamp', 'md_license_seniority', 'jours_derniere_assurance', 'sd_age', 'vh_notyet_bought', 'md_code_departement']\n"
     ]
    }
   ],
   "source": [
    "# Definition de var_other qui contient toutes les variables qui n'ont pas été explicitement rejetées dans var_suppress\n",
    "from itertools import chain\n",
    "var_other = [col for col in dfFormat.columns if col not in list(chain(var_process, var_risk, var_premium ,var_to_suppress,['account_id', 'submission_created_at']))  ]\n",
    "for col in var_other:\n",
    "    if col == 'vh_sra_code':print('probleme')\n",
    "    if col == 'account_id':print('problème')\n",
    "    if col == 'md_license_country':print(col)\n",
    "print('liste var_others')\n",
    "print(var_other)"
   ]
  },
  {
   "cell_type": "code",
   "execution_count": 15,
   "metadata": {},
   "outputs": [
    {
     "name": "stdout",
     "output_type": "stream",
     "text": [
      "Suppression of Doublons \n",
      "Il existe 235977 lignes avant dédoublonnage\n",
      "Il existe 209054 lignes lorsqu'on dédoublonne par account_id\n"
     ]
    }
   ],
   "source": [
    "# Suppression des doublons et conservation uniquement des variables d'intérêt\n",
    "''' sortOrder = [True,True] : choose the first quote of a specific account; [True,False] : the last one ''' \n",
    "TransformedDataReading = reload(TransformedDataReading)\n",
    "\n",
    "subf=TransformedDataReading.UniqueRow(dfFormat,sortOrder = [True, True], var_process = var_process,\n",
    "            var_risk = var_risk ,       \n",
    "            var_premium = var_premium,var_other = var_other, size = SizeVariablesKeptGW)\n",
    " "
   ]
  },
  {
   "cell_type": "code",
   "execution_count": 16,
   "metadata": {},
   "outputs": [],
   "source": [
    "# Base SRA\n",
    "df_SRA = pd.read_csv(f'{BASE_PATH}/Wakam_vehiculier_auto 04-2023 (dwld PlugPlay).csv', sep=';',low_memory=False)\n",
    "# On récupère les 3 variables SRA manquantes (classe, poids véhicule vide, puissance DIN)\n",
    "df_SRA = df_SRA[['SRAIdentifiant','Classe','PoidsASec','PuissanceReelleMaxiDINenCv']]\n",
    "# Ajout de variables comme le vehicule Ratio\n",
    "df_SRA = OrnikarDataFormat.FormatSRA(df_SRA,Stat=False)"
   ]
  },
  {
   "cell_type": "code",
   "execution_count": 17,
   "metadata": {},
   "outputs": [],
   "source": [
    "#pandas_profiling.ProfileReport(subf, minimal=True)"
   ]
  },
  {
   "cell_type": "code",
   "execution_count": 18,
   "metadata": {},
   "outputs": [
    {
     "name": "stdout",
     "output_type": "stream",
     "text": [
      "segment marketing\n"
     ]
    },
    {
     "data": {
      "text/html": [
       "<div>\n",
       "<style scoped>\n",
       "    .dataframe tbody tr th:only-of-type {\n",
       "        vertical-align: middle;\n",
       "    }\n",
       "\n",
       "    .dataframe tbody tr th {\n",
       "        vertical-align: top;\n",
       "    }\n",
       "\n",
       "    .dataframe thead th {\n",
       "        text-align: right;\n",
       "    }\n",
       "</style>\n",
       "<table border=\"1\" class=\"dataframe\">\n",
       "  <thead>\n",
       "    <tr style=\"text-align: right;\">\n",
       "      <th></th>\n",
       "      <th>segment</th>\n",
       "    </tr>\n",
       "  </thead>\n",
       "  <tbody>\n",
       "    <tr>\n",
       "      <th>3. Standard</th>\n",
       "      <td>134679</td>\n",
       "    </tr>\n",
       "    <tr>\n",
       "      <th>2. Jeune permis - &gt; 21 ans</th>\n",
       "      <td>39026</td>\n",
       "    </tr>\n",
       "    <tr>\n",
       "      <th>1. Jeune permis - 18-21 ans</th>\n",
       "      <td>28278</td>\n",
       "    </tr>\n",
       "    <tr>\n",
       "      <th>4. Sans Antécédent</th>\n",
       "      <td>25515</td>\n",
       "    </tr>\n",
       "    <tr>\n",
       "      <th>5. Aggravé (CRM &gt; 100)</th>\n",
       "      <td>7979</td>\n",
       "    </tr>\n",
       "    <tr>\n",
       "      <th>&lt;NA&gt;</th>\n",
       "      <td>499</td>\n",
       "    </tr>\n",
       "  </tbody>\n",
       "</table>\n",
       "</div>"
      ],
      "text/plain": [
       "                             segment\n",
       "3. Standard                   134679\n",
       "2. Jeune permis - > 21 ans     39026\n",
       "1. Jeune permis - 18-21 ans    28278\n",
       "4. Sans Antécédent             25515\n",
       "5. Aggravé (CRM > 100)          7979\n",
       "<NA>                             499"
      ]
     },
     "metadata": {},
     "output_type": "display_data"
    },
    {
     "name": "stdout",
     "output_type": "stream",
     "text": [
      "segment Reinsurer\n"
     ]
    },
    {
     "data": {
      "text/html": [
       "<div>\n",
       "<style scoped>\n",
       "    .dataframe tbody tr th:only-of-type {\n",
       "        vertical-align: middle;\n",
       "    }\n",
       "\n",
       "    .dataframe tbody tr th {\n",
       "        vertical-align: top;\n",
       "    }\n",
       "\n",
       "    .dataframe thead th {\n",
       "        text-align: right;\n",
       "    }\n",
       "</style>\n",
       "<table border=\"1\" class=\"dataframe\">\n",
       "  <thead>\n",
       "    <tr style=\"text-align: right;\">\n",
       "      <th></th>\n",
       "      <th>ReinsurerSegment</th>\n",
       "    </tr>\n",
       "  </thead>\n",
       "  <tbody>\n",
       "    <tr>\n",
       "      <th>3. Standard</th>\n",
       "      <td>134679</td>\n",
       "    </tr>\n",
       "    <tr>\n",
       "      <th>2. Young Driver with No EduScore</th>\n",
       "      <td>50280</td>\n",
       "    </tr>\n",
       "    <tr>\n",
       "      <th>4. Interrupted</th>\n",
       "      <td>25515</td>\n",
       "    </tr>\n",
       "    <tr>\n",
       "      <th>1b. Young Driver with EduScore (bad)</th>\n",
       "      <td>9254</td>\n",
       "    </tr>\n",
       "    <tr>\n",
       "      <th>1a. Young Driver with EduScore (Good)</th>\n",
       "      <td>8268</td>\n",
       "    </tr>\n",
       "    <tr>\n",
       "      <th>3b. Standard - poor CRM</th>\n",
       "      <td>4642</td>\n",
       "    </tr>\n",
       "    <tr>\n",
       "      <th>2b.Young Driver - poor CRM</th>\n",
       "      <td>2896</td>\n",
       "    </tr>\n",
       "    <tr>\n",
       "      <th>4b. Interrupted - poor CRM</th>\n",
       "      <td>441</td>\n",
       "    </tr>\n",
       "    <tr>\n",
       "      <th>&lt;NA&gt;</th>\n",
       "      <td>1</td>\n",
       "    </tr>\n",
       "  </tbody>\n",
       "</table>\n",
       "</div>"
      ],
      "text/plain": [
       "                                       ReinsurerSegment\n",
       "3. Standard                                      134679\n",
       "2. Young Driver with No EduScore                  50280\n",
       "4. Interrupted                                    25515\n",
       "1b. Young Driver with EduScore (bad)               9254\n",
       "1a. Young Driver with EduScore (Good)              8268\n",
       "3b. Standard - poor CRM                            4642\n",
       "2b.Young Driver - poor CRM                         2896\n",
       "4b. Interrupted - poor CRM                          441\n",
       "<NA>                                                  1"
      ]
     },
     "metadata": {},
     "output_type": "display_data"
    },
    {
     "name": "stdout",
     "output_type": "stream",
     "text": [
      "case with NA Segment 499\n"
     ]
    },
    {
     "data": {
      "text/html": [
       "<div>\n",
       "<style scoped>\n",
       "    .dataframe tbody tr th:only-of-type {\n",
       "        vertical-align: middle;\n",
       "    }\n",
       "\n",
       "    .dataframe tbody tr th {\n",
       "        vertical-align: top;\n",
       "    }\n",
       "\n",
       "    .dataframe thead th {\n",
       "        text-align: right;\n",
       "    }\n",
       "</style>\n",
       "<table border=\"1\" class=\"dataframe\">\n",
       "  <thead>\n",
       "    <tr style=\"text-align: right;\">\n",
       "      <th></th>\n",
       "      <th>segment</th>\n",
       "      <th>md_risk_profile</th>\n",
       "      <th>md_crm_coefficient</th>\n",
       "      <th>md_license_duration</th>\n",
       "      <th>duree_assurance_sur_3ans</th>\n",
       "      <th>md_edu_score</th>\n",
       "      <th>md_age</th>\n",
       "    </tr>\n",
       "  </thead>\n",
       "  <tbody>\n",
       "    <tr>\n",
       "      <th>1150</th>\n",
       "      <td>&lt;NA&gt;</td>\n",
       "      <td>Young Driver</td>\n",
       "      <td>1.0</td>\n",
       "      <td>0.0</td>\n",
       "      <td>0.000000</td>\n",
       "      <td>&lt;NA&gt;</td>\n",
       "      <td>17.0</td>\n",
       "    </tr>\n",
       "    <tr>\n",
       "      <th>3244</th>\n",
       "      <td>&lt;NA&gt;</td>\n",
       "      <td>Unknown</td>\n",
       "      <td>1.0</td>\n",
       "      <td>0.0</td>\n",
       "      <td>8.969383</td>\n",
       "      <td>&lt;NA&gt;</td>\n",
       "      <td>17.0</td>\n",
       "    </tr>\n",
       "    <tr>\n",
       "      <th>3245</th>\n",
       "      <td>&lt;NA&gt;</td>\n",
       "      <td>Unknown</td>\n",
       "      <td>1.0</td>\n",
       "      <td>0.0</td>\n",
       "      <td>8.969383</td>\n",
       "      <td>&lt;NA&gt;</td>\n",
       "      <td>17.0</td>\n",
       "    </tr>\n",
       "    <tr>\n",
       "      <th>3272</th>\n",
       "      <td>&lt;NA&gt;</td>\n",
       "      <td>Unknown</td>\n",
       "      <td>1.0</td>\n",
       "      <td>0.0</td>\n",
       "      <td>0.000000</td>\n",
       "      <td>&lt;NA&gt;</td>\n",
       "      <td>17.0</td>\n",
       "    </tr>\n",
       "    <tr>\n",
       "      <th>3274</th>\n",
       "      <td>&lt;NA&gt;</td>\n",
       "      <td>Unknown</td>\n",
       "      <td>1.0</td>\n",
       "      <td>0.0</td>\n",
       "      <td>0.000000</td>\n",
       "      <td>&lt;NA&gt;</td>\n",
       "      <td>17.0</td>\n",
       "    </tr>\n",
       "    <tr>\n",
       "      <th>...</th>\n",
       "      <td>...</td>\n",
       "      <td>...</td>\n",
       "      <td>...</td>\n",
       "      <td>...</td>\n",
       "      <td>...</td>\n",
       "      <td>...</td>\n",
       "      <td>...</td>\n",
       "    </tr>\n",
       "    <tr>\n",
       "      <th>224684</th>\n",
       "      <td>&lt;NA&gt;</td>\n",
       "      <td>Unknown</td>\n",
       "      <td>1.0</td>\n",
       "      <td>0.0</td>\n",
       "      <td>35.976098</td>\n",
       "      <td>&lt;NA&gt;</td>\n",
       "      <td>17.0</td>\n",
       "    </tr>\n",
       "    <tr>\n",
       "      <th>228239</th>\n",
       "      <td>&lt;NA&gt;</td>\n",
       "      <td>Young Driver</td>\n",
       "      <td>1.0</td>\n",
       "      <td>0.0</td>\n",
       "      <td>8.739399</td>\n",
       "      <td>&lt;NA&gt;</td>\n",
       "      <td>17.0</td>\n",
       "    </tr>\n",
       "    <tr>\n",
       "      <th>232400</th>\n",
       "      <td>&lt;NA&gt;</td>\n",
       "      <td>Young Driver</td>\n",
       "      <td>1.0</td>\n",
       "      <td>0.0</td>\n",
       "      <td>8.969383</td>\n",
       "      <td>&lt;NA&gt;</td>\n",
       "      <td>17.0</td>\n",
       "    </tr>\n",
       "    <tr>\n",
       "      <th>234199</th>\n",
       "      <td>&lt;NA&gt;</td>\n",
       "      <td>Unknown</td>\n",
       "      <td>1.0</td>\n",
       "      <td>0.0</td>\n",
       "      <td>11.992033</td>\n",
       "      <td>&lt;NA&gt;</td>\n",
       "      <td>17.0</td>\n",
       "    </tr>\n",
       "    <tr>\n",
       "      <th>234594</th>\n",
       "      <td>&lt;NA&gt;</td>\n",
       "      <td>Unknown</td>\n",
       "      <td>1.0</td>\n",
       "      <td>0.0</td>\n",
       "      <td>9.593626</td>\n",
       "      <td>32</td>\n",
       "      <td>17.0</td>\n",
       "    </tr>\n",
       "  </tbody>\n",
       "</table>\n",
       "<p>499 rows × 7 columns</p>\n",
       "</div>"
      ],
      "text/plain": [
       "       segment md_risk_profile  md_crm_coefficient  md_license_duration  \\\n",
       "1150      <NA>    Young Driver                 1.0                  0.0   \n",
       "3244      <NA>         Unknown                 1.0                  0.0   \n",
       "3245      <NA>         Unknown                 1.0                  0.0   \n",
       "3272      <NA>         Unknown                 1.0                  0.0   \n",
       "3274      <NA>         Unknown                 1.0                  0.0   \n",
       "...        ...             ...                 ...                  ...   \n",
       "224684    <NA>         Unknown                 1.0                  0.0   \n",
       "228239    <NA>    Young Driver                 1.0                  0.0   \n",
       "232400    <NA>    Young Driver                 1.0                  0.0   \n",
       "234199    <NA>         Unknown                 1.0                  0.0   \n",
       "234594    <NA>         Unknown                 1.0                  0.0   \n",
       "\n",
       "        duree_assurance_sur_3ans  md_edu_score  md_age  \n",
       "1150                    0.000000          <NA>    17.0  \n",
       "3244                    8.969383          <NA>    17.0  \n",
       "3245                    8.969383          <NA>    17.0  \n",
       "3272                    0.000000          <NA>    17.0  \n",
       "3274                    0.000000          <NA>    17.0  \n",
       "...                          ...           ...     ...  \n",
       "224684                 35.976098          <NA>    17.0  \n",
       "228239                  8.739399          <NA>    17.0  \n",
       "232400                  8.969383          <NA>    17.0  \n",
       "234199                 11.992033          <NA>    17.0  \n",
       "234594                  9.593626            32    17.0  \n",
       "\n",
       "[499 rows x 7 columns]"
      ]
     },
     "metadata": {},
     "output_type": "display_data"
    },
    {
     "name": "stdout",
     "output_type": "stream",
     "text": [
      "case with NA ReinsurerSegment\n"
     ]
    },
    {
     "data": {
      "text/html": [
       "<div>\n",
       "<style scoped>\n",
       "    .dataframe tbody tr th:only-of-type {\n",
       "        vertical-align: middle;\n",
       "    }\n",
       "\n",
       "    .dataframe tbody tr th {\n",
       "        vertical-align: top;\n",
       "    }\n",
       "\n",
       "    .dataframe thead th {\n",
       "        text-align: right;\n",
       "    }\n",
       "</style>\n",
       "<table border=\"1\" class=\"dataframe\">\n",
       "  <thead>\n",
       "    <tr style=\"text-align: right;\">\n",
       "      <th></th>\n",
       "      <th>ReinsurerSegment</th>\n",
       "      <th>md_risk_profile</th>\n",
       "      <th>md_crm_coefficient</th>\n",
       "      <th>md_license_duration</th>\n",
       "      <th>duree_assurance_sur_3ans</th>\n",
       "      <th>md_edu_score</th>\n",
       "    </tr>\n",
       "  </thead>\n",
       "  <tbody>\n",
       "    <tr>\n",
       "      <th>53341</th>\n",
       "      <td>&lt;NA&gt;</td>\n",
       "      <td>Unknown</td>\n",
       "      <td>NaN</td>\n",
       "      <td>9.0</td>\n",
       "      <td>35.976098</td>\n",
       "      <td>&lt;NA&gt;</td>\n",
       "    </tr>\n",
       "  </tbody>\n",
       "</table>\n",
       "</div>"
      ],
      "text/plain": [
       "      ReinsurerSegment md_risk_profile  md_crm_coefficient  \\\n",
       "53341             <NA>         Unknown                 NaN   \n",
       "\n",
       "       md_license_duration  duree_assurance_sur_3ans  md_edu_score  \n",
       "53341                  9.0                 35.976098          <NA>  "
      ]
     },
     "metadata": {},
     "output_type": "display_data"
    },
    {
     "name": "stdout",
     "output_type": "stream",
     "text": [
      "Output Database with 235976 lines and 208 Columns\n",
      "Number of policies UW : 2464\n",
      "['cancellation_date', 'submission_created_at_Timestamp']\n",
      "Number of policies UW : 2464\n"
     ]
    }
   ],
   "source": [
    "# Merge of all the Databases of GuideWire into a unique One\n",
    "OrnikarDataFormat = reload(OrnikarDataFormat)\n",
    "#display(df,df_SRA,df_previous_claims,df_previous_insurers,df_previous_terminations,df_previous_license_cancellations_suspensions) \n",
    "BaseQuotation = OrnikarDataFormat.mergeBaseGuideWire(dfFormat,df_SRA,df_previous_claims,df_previous_insurers,df_previous_terminations,df_previous_license_cancellations_suspensions,Stat=True)\n",
    "print('Number of policies UW : '+str(BaseQuotation['tariff_accepted'].sum()))\n",
    "#pandas_profiling.ProfileReport(BaseQuotation, minimal=True)\n",
    "BaseQuotation = OrnikarDataFormat.FormatGuideWire(BaseQuotation)\n",
    "print('Number of policies UW : '+str(BaseQuotation['tariff_accepted'].sum()))"
   ]
  },
  {
   "cell_type": "code",
   "execution_count": 19,
   "metadata": {},
   "outputs": [
    {
     "name": "stdout",
     "output_type": "stream",
     "text": [
      "Number of policies UW : 2464\n"
     ]
    }
   ],
   "source": [
    "# Indicatrices - Règles GW \n",
    "OrnikarDataFormat = reload(OrnikarDataFormat)\n",
    "BaseQuotation = OrnikarDataFormat.IndicatorsUnderwritingRules(df_temp=BaseQuotation,Stat = False)\n",
    "print('Number of policies UW : '+str(BaseQuotation['tariff_accepted'].sum()))\n"
   ]
  }
 ],
 "metadata": {
  "kernelspec": {
   "display_name": "OnlyPIP",
   "language": "python",
   "name": "python3"
  },
  "language_info": {
   "codemirror_mode": {
    "name": "ipython",
    "version": 3
   },
   "file_extension": ".py",
   "mimetype": "text/x-python",
   "name": "python",
   "nbconvert_exporter": "python",
   "pygments_lexer": "ipython3",
   "version": "3.9.15"
  },
  "orig_nbformat": 4
 },
 "nbformat": 4,
 "nbformat_minor": 2
}
