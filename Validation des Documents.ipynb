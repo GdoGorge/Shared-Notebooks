{
  "cells": [
    {
      "attachments": {},
      "cell_type": "markdown",
      "metadata": {
        "id": "jMnmft-VE3ZY"
      },
      "source": [
        "### 0. Initialisation"
      ]
    },
    {
      "cell_type": "code",
      "execution_count": null,
      "metadata": {},
      "outputs": [],
      "source": [
        "#Chargement des packages\n",
        "import numpy as np \n",
        "import pandas as pd \n",
        "import warnings\n",
        "import datetime as dt\n",
        "import pytz #to handle timezones\n",
        "\n",
        "from google.cloud import bigquery\n",
        "from google.oauth2 import service_account\n",
        "\n",
        "#Chemins\n",
        "PATH_output = \"\"\n",
        "\n",
        "#Options\n",
        "pd.set_option('display.max_columns', 200)\n",
        "pd.set_option('display.max_rows', 100)\n",
        "pd.options.display.float_format = \"{:.2f}\".format\n",
        "warnings.filterwarnings('ignore')\n"
      ]
    },
    {
      "attachments": {},
      "cell_type": "markdown",
      "metadata": {},
      "source": [
        "### 1. Connexion Big Query"
      ]
    },
    {
      "cell_type": "code",
      "execution_count": 465,
      "metadata": {},
      "outputs": [],
      "source": [
        "client = bigquery.Client(project='transformed-data')\n",
        "project = client.project\n"
      ]
    },
    {
      "attachments": {},
      "cell_type": "markdown",
      "metadata": {},
      "source": [
        "### 2. Charger les données de Big Query"
      ]
    },
    {
      "cell_type": "code",
      "execution_count": 499,
      "metadata": {},
      "outputs": [
        {
          "data": {
            "text/plain": [
              "(40487, 165)"
            ]
          },
          "execution_count": 499,
          "metadata": {},
          "output_type": "execute_result"
        }
      ],
      "source": [
        "# Charger les données risque des contrats souscrits\n",
        "\n",
        "query = \"\"\"\n",
        "    select policy_number, period_status, ph_email, policy_risk_profile, md_crm_coefficient, sd_driver_id, vh_financing_method, online_offline\n",
        "    from mart_insurance.mart_submissions as s\n",
        "    where period_status = \"Bound\"\n",
        "    \"\"\"\n",
        "query_job = client.query(query)\n",
        "acc_bound = query_job.to_dataframe()\n",
        "acc_bound.shape"
      ]
    },
    {
      "cell_type": "code",
      "execution_count": null,
      "metadata": {},
      "outputs": [],
      "source": [
        "# Charger les données des documents\n",
        "\n",
        "query = \"\"\"\n",
        "    select *\n",
        "    from mart_insurance.mart_documents as s\n",
        "    \"\"\"\n",
        "query_job = client.query(query)\n",
        "doc = query_job.to_dataframe()\n",
        "doc.shape"
      ]
    },
    {
      "cell_type": "code",
      "execution_count": null,
      "metadata": {},
      "outputs": [],
      "source": [
        "# Charger les données des polices validées\n",
        "\n",
        "query = \"\"\"\n",
        "    select policy_number\n",
        "    from mart_insurance.mart_bound_policies\n",
        "    where issue_date is not null\n",
        "    \"\"\"\n",
        "query_job = client.query(query)\n",
        "val = query_job.to_dataframe()\n",
        "val.shape"
      ]
    },
    {
      "attachments": {},
      "cell_type": "markdown",
      "metadata": {},
      "source": [
        "### 3. Mapper les infos risque et de validation à la base des documents"
      ]
    },
    {
      "cell_type": "code",
      "execution_count": null,
      "metadata": {},
      "outputs": [],
      "source": [
        "# Mapper les infos des contrats : email, risk profil, CRM, conducteur secondaire, mode d'achat du véhicule\n",
        "\n",
        "doc2 = doc.merge(acc_bound, on = \"policy_number\", how = \"inner\").merge(val, on = \"policy_number\", how = \"left\", indicator = True)\n",
        "doc2['policy_issued'] = False\n",
        "doc2.loc[doc2._merge == \"both\", 'policy_issued'] = True"
      ]
    },
    {
      "attachments": {},
      "cell_type": "markdown",
      "metadata": {},
      "source": [
        "### 4. Pre-processing base des documents"
      ]
    },
    {
      "cell_type": "code",
      "execution_count": null,
      "metadata": {},
      "outputs": [],
      "source": [
        "# Garder les variables pertinentes\n",
        "\n",
        "doc3 = doc2[[\n",
        "    'policy_number',\n",
        "    'policy_issued',\n",
        "    'period_start',\n",
        "    'is_mandatory',\n",
        "    'ph_email', \n",
        "    'online_offline',\n",
        "    'document_type', \n",
        "    'document_status',\n",
        "    'document_sent_at',\n",
        "    'document_received_at',\n",
        "    'document_validated_at',\n",
        "    'comments',\n",
        "    'is_validated',\n",
        "    'policy_risk_profile',\n",
        "    'sd_driver_id',\n",
        "    'md_crm_coefficient',\n",
        "    'vh_financing_method'\n",
        "]]\n",
        "\n",
        "# Pré-processing\n",
        "\n",
        "doc3['md_crm_coefficient'] = doc3.md_crm_coefficient.astype(float)\n",
        "for col in doc3.columns:\n",
        "   if doc3[col].dtype in (\"datetime64[ns, UTC]\", \"datetime64[ns]\", \"dbdate\") :\n",
        "      doc3[col] = pd.to_datetime(doc3[col]).dt.date    \n",
        "\n",
        "# Délai avant résiliation\n",
        "\n",
        "doc3['supposed_cancel_date'] = pd.to_datetime((doc3['period_start'] + timedelta(days = 55)))\n",
        "doc3['delay_before_cancel'] = ((doc3['supposed_cancel_date'] - pd.to_datetime(dt.datetime.now().date())) / np.timedelta64(1, 'D')).astype(int)\n"
      ]
    },
    {
      "attachments": {},
      "cell_type": "markdown",
      "metadata": {},
      "source": [
        "### 5. Docusign"
      ]
    },
    {
      "cell_type": "code",
      "execution_count": null,
      "metadata": {},
      "outputs": [],
      "source": [
        "# Importer les données Docusign\n",
        "\n",
        "ds = pd.read_csv(\"../../input_docusign_20230608.csv', low_memory = False)\n",
        "\n",
        "# Liste des documents signés dédoublonnés par email\n",
        "\n",
        "ds_nodup = ds.loc[ds['État'] == \"Complété\"].drop_duplicates('Adresse e-mail du destinataire')[['Adresse e-mail du destinataire']]\n",
        "ds_nodup.rename(columns = {'Adresse e-mail du destinataire' : 'ph_email'}, inplace = True)\n",
        "\n",
        "# Mapper l'info à la DB des documents par email\n",
        "\n",
        "doc4 = doc3.merge(ds_nodup, on = \"ph_email\", how = \"left\", indicator = True)\n",
        "doc4['Found_Docusign'] = False\n",
        "doc4.loc[doc4._merge == \"both\", 'Found_Docusign'] = True\n",
        "doc4.drop(['_merge'], axis = 1, inplace = True)"
      ]
    },
    {
      "cell_type": "code",
      "execution_count": null,
      "metadata": {},
      "outputs": [],
      "source": [
        "# Recalculer la validation en prenant en compte l'info Docusign\n",
        "\n",
        "doc4['is_validated_Clem'] = ((doc4.document_status == \"Validé\") | ((doc4.document_type == \"Contrat signe\") & (doc4.Found_Docusign == True))) "
      ]
    },
    {
      "attachments": {},
      "cell_type": "markdown",
      "metadata": {},
      "source": [
        "### 6. Règles pour l'obligation des documents"
      ]
    },
    {
      "cell_type": "code",
      "execution_count": null,
      "metadata": {},
      "outputs": [],
      "source": [
        "# Recalculer le caractère obligatoire des documents\n",
        "\n",
        "doc4['is_mandatory_Clem'] = False\n",
        "\n",
        "#Relevé d'information : obligatoire pour tous sauf (les Sans Ant. & Jeunes) avec CRM = 1\n",
        "doc4.loc[(doc4.document_type == \"Relevé d'information des différentes compagnies d'assurance\"), 'is_mandatory_Clem'] = True\n",
        "doc4.loc[((doc4.policy_risk_profile.isin(['No Previous Insurance', 'Young Driver'])) & (doc4.md_crm_coefficient == 1) & (doc4.document_type == \"Relevé d'information des différentes compagnies d'assurance\")), 'is_mandatory_Clem'] = False\n",
        "\n",
        "# Permis & Certificat d’immatriculation & Contrat signé : obligatoire pour tous\n",
        "doc4.loc[doc4.document_type.isin(['Permis de conduire', 'Certificat d’immatriculation', 'Contrat signe']), 'is_mandatory_Clem'] = True\n",
        "\n",
        "# Permis du conducteur secondaire : obligatoire pour ceux qui ont un conducteur secondaire\n",
        "doc4.loc[(~(doc4.sd_driver_id.isna()) & (doc4.document_type == \"Permis de conduire un second conducteur\")), 'is_mandatory_Clem'] = True\n",
        "\n",
        "# Contrat de location : obligatoire pour ceux qui ont un mode de financement Leasing with purchase (LOA) ou Leasing (LLD)\n",
        "#doc4.loc[(doc4.document_type == \"Contrat de location\") & (doc4.vh_financing_method.isin(['Leasing with purchase', 'Leasing'])), 'is_mandatory_Clem'] = True"
      ]
    },
    {
      "cell_type": "code",
      "execution_count": null,
      "metadata": {},
      "outputs": [],
      "source": [
        "# Calculer à la maille police le nb de documents obligatoires vs nb de documents validés\n",
        "\n",
        "doc4['is_pending_Clem'] = ((doc4.is_mandatory_Clem == True) & (doc4.is_validated_Clem == False))\n",
        "\n",
        "list_col = ['is_mandatory_Clem', 'is_validated_Clem', 'is_pending_Clem']\n",
        "temp = doc4[(list(['policy_number'] + list_col))]\n",
        "\n",
        "for col in list_col:\n",
        "   temp[col] = temp[col].astype(int)    \n",
        "\n",
        "temp = temp.groupby(['policy_number'])[['is_mandatory_Clem', 'is_validated_Clem', 'is_pending_Clem']].sum().reset_index()\n",
        "temp['is_pending_policy_Clem'] = 0\n",
        "temp.loc[temp.is_pending_Clem > 0, 'is_pending_policy_Clem'] = 1\n",
        "\n",
        "temp.rename(columns = {'is_pending_Clem' : 'nb_documents_pending_Clem'}, inplace = True)"
      ]
    },
    {
      "cell_type": "code",
      "execution_count": null,
      "metadata": {},
      "outputs": [],
      "source": [
        "# Mapper à la maille police s'il y a des documents pending\n",
        "\n",
        "doc5 = doc4.merge(temp[['policy_number', 'is_pending_policy_Clem', 'nb_documents_pending_Clem']], on = \"policy_number\", how = \"left\")"
      ]
    },
    {
      "attachments": {},
      "cell_type": "markdown",
      "metadata": {},
      "source": [
        "### 7. Export final\n"
      ]
    },
    {
      "cell_type": "code",
      "execution_count": null,
      "metadata": {},
      "outputs": [],
      "source": [
        "file_path = PATH_output + '/Stats Documents'\n",
        "doc_sql5.to_csv(file_path + '.csv', encoding = 'utf-8-sig')"
      ]
    }
  ],
  "metadata": {
    "colab": {
      "provenance": []
    },
    "kernelspec": {
      "display_name": "pricing",
      "language": "python",
      "name": "python3"
    },
    "language_info": {
      "codemirror_mode": {
        "name": "ipython",
        "version": 3
      },
      "file_extension": ".py",
      "mimetype": "text/x-python",
      "name": "python",
      "nbconvert_exporter": "python",
      "pygments_lexer": "ipython3",
      "version": "3.10.9"
    },
    "vscode": {
      "interpreter": {
        "hash": "5dc9d3e3c068129a535ba33a8ce3dc51e8d0a0765a327d028cc2755ccbceb02d"
      }
    }
  },
  "nbformat": 4,
  "nbformat_minor": 0
}
